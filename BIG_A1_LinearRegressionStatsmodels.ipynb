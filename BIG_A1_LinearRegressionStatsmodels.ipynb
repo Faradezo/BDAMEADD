{
  "nbformat": 4,
  "nbformat_minor": 0,
  "metadata": {
    "colab": {
      "name": "BIG_A1_LinearRegressionStatsmodels.ipynb",
      "provenance": [],
      "collapsed_sections": [],
      "include_colab_link": true
    },
    "kernelspec": {
      "name": "python3",
      "display_name": "Python 3"
    }
  },
  "cells": [
    {
      "cell_type": "markdown",
      "metadata": {
        "id": "view-in-github",
        "colab_type": "text"
      },
      "source": [
        "<a href=\"https://colab.research.google.com/github/Faradezo/BDAMEADD/blob/main/BIG_A1_LinearRegressionStatsmodels.ipynb\" target=\"_parent\"><img src=\"https://colab.research.google.com/assets/colab-badge.svg\" alt=\"Open In Colab\"/></a>"
      ]
    },
    {
      "cell_type": "markdown",
      "metadata": {
        "id": "J3LMBfpeHTwb"
      },
      "source": [
        "<head>\n",
        "  <meta name=\"author\" content=\"Rogério de Oliveira\">\n",
        "  <meta institution=\"author\" content=\"Universidade Presbiteriana Mackenzie\">\n",
        "</head>\n",
        "\n",
        "<img src=\"http://meusite.mackenzie.br/rogerio/mackenzie_logo/UPM.2_horizontal_vermelho.jpg\" width=300, align=\"right\">\n",
        "<!-- <h1 align=left><font size = 6, style=\"color:rgb(200,0,0)\"> optional title </font></h1> -->\n"
      ]
    },
    {
      "cell_type": "markdown",
      "metadata": {
        "id": "zQX8WQPeHTwc"
      },
      "source": [
        "# **Tarefa de Aprofundamento 1** \n",
        "## CASO: Estimando o Preço de Imóveis em São Paulo\n",
        "---\n",
        "<br>\n",
        "<br>\n",
        "\n",
        "\n",
        "\n"
      ]
    },
    {
      "cell_type": "markdown",
      "metadata": {
        "id": "Py6w383Wz2xs"
      },
      "source": [
        "A partir deste notebook crie um modelo de regressão múltipla com a biblioteca `statsmodels` para predição de preço de imóveis com base no histórico de preços e características de vários imóveis de São Paulo. \n",
        "\n",
        "Em seguida, com base nos seus resultados, responda o **questionário do Moodle**. "
      ]
    },
    {
      "cell_type": "markdown",
      "metadata": {
        "id": "nGZH-j05q8WZ"
      },
      "source": [
        "# Basic imports"
      ]
    },
    {
      "cell_type": "code",
      "metadata": {
        "id": "T6FFPMh10lvO"
      },
      "source": [
        "import numpy as np\n",
        "import pandas as pd\n",
        "import matplotlib.pyplot as plt\n",
        "%matplotlib inline\n",
        "import seaborn as sns"
      ],
      "execution_count": 1,
      "outputs": []
    },
    {
      "cell_type": "markdown",
      "metadata": {
        "id": "xir7T5-tsJJa"
      },
      "source": [
        "# Exploração dos Dados"
      ]
    },
    {
      "cell_type": "markdown",
      "metadata": {
        "id": "R4T821bBttsU"
      },
      "source": [
        "Entenda os dados disponíveis e em seguida faça as transformações necessárias nos dados. Quantidades dos dados, se existem valores nulos e valores máximos e mínimos dos atributos são algumas explorações comuns. "
      ]
    },
    {
      "cell_type": "markdown",
      "metadata": {
        "id": "bM4fPIXvstYK"
      },
      "source": [
        "(Moodle) **Q1**. Quantos bairros existem no histórico e qual o bairro mais presente nos dados?\n",
        "\n"
      ]
    },
    {
      "cell_type": "code",
      "metadata": {
        "colab": {
          "base_uri": "https://localhost:8080/",
          "height": 206
        },
        "id": "1rI9MHBaO9qR",
        "outputId": "b1fd1485-5b0f-48cc-858c-0c510c29da1e"
      },
      "source": [
        "df = pd.read_excel('http://meusite.mackenzie.br/rogerio/data_load/regressao_preco_imoveis.xlsx')\n",
        "df.head()"
      ],
      "execution_count": 2,
      "outputs": [
        {
          "output_type": "execute_result",
          "data": {
            "text/plain": [
              "                bairro  areaM2  suites  dormitorios  banheiros  vagas    preco\n",
              "0  vila-nova-conceicao      32       1            1          1      1   490000\n",
              "1  vila-nova-conceicao     157       2            2          2      2  3180000\n",
              "2  vila-nova-conceicao     205       2            3          3      3  1900000\n",
              "3  vila-nova-conceicao     193       3            3          3      3  3565000\n",
              "4  vila-nova-conceicao     116       1            3          2      2  1605000"
            ],
            "text/html": [
              "\n",
              "  <div id=\"df-c5ad61d5-12c1-426c-9ac5-adaf61bfae96\">\n",
              "    <div class=\"colab-df-container\">\n",
              "      <div>\n",
              "<style scoped>\n",
              "    .dataframe tbody tr th:only-of-type {\n",
              "        vertical-align: middle;\n",
              "    }\n",
              "\n",
              "    .dataframe tbody tr th {\n",
              "        vertical-align: top;\n",
              "    }\n",
              "\n",
              "    .dataframe thead th {\n",
              "        text-align: right;\n",
              "    }\n",
              "</style>\n",
              "<table border=\"1\" class=\"dataframe\">\n",
              "  <thead>\n",
              "    <tr style=\"text-align: right;\">\n",
              "      <th></th>\n",
              "      <th>bairro</th>\n",
              "      <th>areaM2</th>\n",
              "      <th>suites</th>\n",
              "      <th>dormitorios</th>\n",
              "      <th>banheiros</th>\n",
              "      <th>vagas</th>\n",
              "      <th>preco</th>\n",
              "    </tr>\n",
              "  </thead>\n",
              "  <tbody>\n",
              "    <tr>\n",
              "      <th>0</th>\n",
              "      <td>vila-nova-conceicao</td>\n",
              "      <td>32</td>\n",
              "      <td>1</td>\n",
              "      <td>1</td>\n",
              "      <td>1</td>\n",
              "      <td>1</td>\n",
              "      <td>490000</td>\n",
              "    </tr>\n",
              "    <tr>\n",
              "      <th>1</th>\n",
              "      <td>vila-nova-conceicao</td>\n",
              "      <td>157</td>\n",
              "      <td>2</td>\n",
              "      <td>2</td>\n",
              "      <td>2</td>\n",
              "      <td>2</td>\n",
              "      <td>3180000</td>\n",
              "    </tr>\n",
              "    <tr>\n",
              "      <th>2</th>\n",
              "      <td>vila-nova-conceicao</td>\n",
              "      <td>205</td>\n",
              "      <td>2</td>\n",
              "      <td>3</td>\n",
              "      <td>3</td>\n",
              "      <td>3</td>\n",
              "      <td>1900000</td>\n",
              "    </tr>\n",
              "    <tr>\n",
              "      <th>3</th>\n",
              "      <td>vila-nova-conceicao</td>\n",
              "      <td>193</td>\n",
              "      <td>3</td>\n",
              "      <td>3</td>\n",
              "      <td>3</td>\n",
              "      <td>3</td>\n",
              "      <td>3565000</td>\n",
              "    </tr>\n",
              "    <tr>\n",
              "      <th>4</th>\n",
              "      <td>vila-nova-conceicao</td>\n",
              "      <td>116</td>\n",
              "      <td>1</td>\n",
              "      <td>3</td>\n",
              "      <td>2</td>\n",
              "      <td>2</td>\n",
              "      <td>1605000</td>\n",
              "    </tr>\n",
              "  </tbody>\n",
              "</table>\n",
              "</div>\n",
              "      <button class=\"colab-df-convert\" onclick=\"convertToInteractive('df-c5ad61d5-12c1-426c-9ac5-adaf61bfae96')\"\n",
              "              title=\"Convert this dataframe to an interactive table.\"\n",
              "              style=\"display:none;\">\n",
              "        \n",
              "  <svg xmlns=\"http://www.w3.org/2000/svg\" height=\"24px\"viewBox=\"0 0 24 24\"\n",
              "       width=\"24px\">\n",
              "    <path d=\"M0 0h24v24H0V0z\" fill=\"none\"/>\n",
              "    <path d=\"M18.56 5.44l.94 2.06.94-2.06 2.06-.94-2.06-.94-.94-2.06-.94 2.06-2.06.94zm-11 1L8.5 8.5l.94-2.06 2.06-.94-2.06-.94L8.5 2.5l-.94 2.06-2.06.94zm10 10l.94 2.06.94-2.06 2.06-.94-2.06-.94-.94-2.06-.94 2.06-2.06.94z\"/><path d=\"M17.41 7.96l-1.37-1.37c-.4-.4-.92-.59-1.43-.59-.52 0-1.04.2-1.43.59L10.3 9.45l-7.72 7.72c-.78.78-.78 2.05 0 2.83L4 21.41c.39.39.9.59 1.41.59.51 0 1.02-.2 1.41-.59l7.78-7.78 2.81-2.81c.8-.78.8-2.07 0-2.86zM5.41 20L4 18.59l7.72-7.72 1.47 1.35L5.41 20z\"/>\n",
              "  </svg>\n",
              "      </button>\n",
              "      \n",
              "  <style>\n",
              "    .colab-df-container {\n",
              "      display:flex;\n",
              "      flex-wrap:wrap;\n",
              "      gap: 12px;\n",
              "    }\n",
              "\n",
              "    .colab-df-convert {\n",
              "      background-color: #E8F0FE;\n",
              "      border: none;\n",
              "      border-radius: 50%;\n",
              "      cursor: pointer;\n",
              "      display: none;\n",
              "      fill: #1967D2;\n",
              "      height: 32px;\n",
              "      padding: 0 0 0 0;\n",
              "      width: 32px;\n",
              "    }\n",
              "\n",
              "    .colab-df-convert:hover {\n",
              "      background-color: #E2EBFA;\n",
              "      box-shadow: 0px 1px 2px rgba(60, 64, 67, 0.3), 0px 1px 3px 1px rgba(60, 64, 67, 0.15);\n",
              "      fill: #174EA6;\n",
              "    }\n",
              "\n",
              "    [theme=dark] .colab-df-convert {\n",
              "      background-color: #3B4455;\n",
              "      fill: #D2E3FC;\n",
              "    }\n",
              "\n",
              "    [theme=dark] .colab-df-convert:hover {\n",
              "      background-color: #434B5C;\n",
              "      box-shadow: 0px 1px 3px 1px rgba(0, 0, 0, 0.15);\n",
              "      filter: drop-shadow(0px 1px 2px rgba(0, 0, 0, 0.3));\n",
              "      fill: #FFFFFF;\n",
              "    }\n",
              "  </style>\n",
              "\n",
              "      <script>\n",
              "        const buttonEl =\n",
              "          document.querySelector('#df-c5ad61d5-12c1-426c-9ac5-adaf61bfae96 button.colab-df-convert');\n",
              "        buttonEl.style.display =\n",
              "          google.colab.kernel.accessAllowed ? 'block' : 'none';\n",
              "\n",
              "        async function convertToInteractive(key) {\n",
              "          const element = document.querySelector('#df-c5ad61d5-12c1-426c-9ac5-adaf61bfae96');\n",
              "          const dataTable =\n",
              "            await google.colab.kernel.invokeFunction('convertToInteractive',\n",
              "                                                     [key], {});\n",
              "          if (!dataTable) return;\n",
              "\n",
              "          const docLinkHtml = 'Like what you see? Visit the ' +\n",
              "            '<a target=\"_blank\" href=https://colab.research.google.com/notebooks/data_table.ipynb>data table notebook</a>'\n",
              "            + ' to learn more about interactive tables.';\n",
              "          element.innerHTML = '';\n",
              "          dataTable['output_type'] = 'display_data';\n",
              "          await google.colab.output.renderOutput(dataTable, element);\n",
              "          const docLink = document.createElement('div');\n",
              "          docLink.innerHTML = docLinkHtml;\n",
              "          element.appendChild(docLink);\n",
              "        }\n",
              "      </script>\n",
              "    </div>\n",
              "  </div>\n",
              "  "
            ]
          },
          "metadata": {},
          "execution_count": 2
        }
      ]
    },
    {
      "cell_type": "code",
      "metadata": {
        "id": "zCGFg5vqwwJT",
        "colab": {
          "base_uri": "https://localhost:8080/",
          "height": 206
        },
        "outputId": "727a6bbb-a9f1-4eb9-b457-31607f5059d2"
      },
      "source": [
        "# seu código\n",
        "df.groupby(df.bairro.tolist(),as_index=False).size().sort_values('size', ascending=False)"
      ],
      "execution_count": 35,
      "outputs": [
        {
          "output_type": "execute_result",
          "data": {
            "text/plain": [
              "                 index  size\n",
              "2         vila-mariana  1714\n",
              "1              paraiso   802\n",
              "3  vila-nova-conceicao   789\n",
              "4           vila-sonia   307\n",
              "0              morumbi   129"
            ],
            "text/html": [
              "\n",
              "  <div id=\"df-b2d7d0f8-5f84-4f35-adc9-80abfec6b8ea\">\n",
              "    <div class=\"colab-df-container\">\n",
              "      <div>\n",
              "<style scoped>\n",
              "    .dataframe tbody tr th:only-of-type {\n",
              "        vertical-align: middle;\n",
              "    }\n",
              "\n",
              "    .dataframe tbody tr th {\n",
              "        vertical-align: top;\n",
              "    }\n",
              "\n",
              "    .dataframe thead th {\n",
              "        text-align: right;\n",
              "    }\n",
              "</style>\n",
              "<table border=\"1\" class=\"dataframe\">\n",
              "  <thead>\n",
              "    <tr style=\"text-align: right;\">\n",
              "      <th></th>\n",
              "      <th>index</th>\n",
              "      <th>size</th>\n",
              "    </tr>\n",
              "  </thead>\n",
              "  <tbody>\n",
              "    <tr>\n",
              "      <th>2</th>\n",
              "      <td>vila-mariana</td>\n",
              "      <td>1714</td>\n",
              "    </tr>\n",
              "    <tr>\n",
              "      <th>1</th>\n",
              "      <td>paraiso</td>\n",
              "      <td>802</td>\n",
              "    </tr>\n",
              "    <tr>\n",
              "      <th>3</th>\n",
              "      <td>vila-nova-conceicao</td>\n",
              "      <td>789</td>\n",
              "    </tr>\n",
              "    <tr>\n",
              "      <th>4</th>\n",
              "      <td>vila-sonia</td>\n",
              "      <td>307</td>\n",
              "    </tr>\n",
              "    <tr>\n",
              "      <th>0</th>\n",
              "      <td>morumbi</td>\n",
              "      <td>129</td>\n",
              "    </tr>\n",
              "  </tbody>\n",
              "</table>\n",
              "</div>\n",
              "      <button class=\"colab-df-convert\" onclick=\"convertToInteractive('df-b2d7d0f8-5f84-4f35-adc9-80abfec6b8ea')\"\n",
              "              title=\"Convert this dataframe to an interactive table.\"\n",
              "              style=\"display:none;\">\n",
              "        \n",
              "  <svg xmlns=\"http://www.w3.org/2000/svg\" height=\"24px\"viewBox=\"0 0 24 24\"\n",
              "       width=\"24px\">\n",
              "    <path d=\"M0 0h24v24H0V0z\" fill=\"none\"/>\n",
              "    <path d=\"M18.56 5.44l.94 2.06.94-2.06 2.06-.94-2.06-.94-.94-2.06-.94 2.06-2.06.94zm-11 1L8.5 8.5l.94-2.06 2.06-.94-2.06-.94L8.5 2.5l-.94 2.06-2.06.94zm10 10l.94 2.06.94-2.06 2.06-.94-2.06-.94-.94-2.06-.94 2.06-2.06.94z\"/><path d=\"M17.41 7.96l-1.37-1.37c-.4-.4-.92-.59-1.43-.59-.52 0-1.04.2-1.43.59L10.3 9.45l-7.72 7.72c-.78.78-.78 2.05 0 2.83L4 21.41c.39.39.9.59 1.41.59.51 0 1.02-.2 1.41-.59l7.78-7.78 2.81-2.81c.8-.78.8-2.07 0-2.86zM5.41 20L4 18.59l7.72-7.72 1.47 1.35L5.41 20z\"/>\n",
              "  </svg>\n",
              "      </button>\n",
              "      \n",
              "  <style>\n",
              "    .colab-df-container {\n",
              "      display:flex;\n",
              "      flex-wrap:wrap;\n",
              "      gap: 12px;\n",
              "    }\n",
              "\n",
              "    .colab-df-convert {\n",
              "      background-color: #E8F0FE;\n",
              "      border: none;\n",
              "      border-radius: 50%;\n",
              "      cursor: pointer;\n",
              "      display: none;\n",
              "      fill: #1967D2;\n",
              "      height: 32px;\n",
              "      padding: 0 0 0 0;\n",
              "      width: 32px;\n",
              "    }\n",
              "\n",
              "    .colab-df-convert:hover {\n",
              "      background-color: #E2EBFA;\n",
              "      box-shadow: 0px 1px 2px rgba(60, 64, 67, 0.3), 0px 1px 3px 1px rgba(60, 64, 67, 0.15);\n",
              "      fill: #174EA6;\n",
              "    }\n",
              "\n",
              "    [theme=dark] .colab-df-convert {\n",
              "      background-color: #3B4455;\n",
              "      fill: #D2E3FC;\n",
              "    }\n",
              "\n",
              "    [theme=dark] .colab-df-convert:hover {\n",
              "      background-color: #434B5C;\n",
              "      box-shadow: 0px 1px 3px 1px rgba(0, 0, 0, 0.15);\n",
              "      filter: drop-shadow(0px 1px 2px rgba(0, 0, 0, 0.3));\n",
              "      fill: #FFFFFF;\n",
              "    }\n",
              "  </style>\n",
              "\n",
              "      <script>\n",
              "        const buttonEl =\n",
              "          document.querySelector('#df-b2d7d0f8-5f84-4f35-adc9-80abfec6b8ea button.colab-df-convert');\n",
              "        buttonEl.style.display =\n",
              "          google.colab.kernel.accessAllowed ? 'block' : 'none';\n",
              "\n",
              "        async function convertToInteractive(key) {\n",
              "          const element = document.querySelector('#df-b2d7d0f8-5f84-4f35-adc9-80abfec6b8ea');\n",
              "          const dataTable =\n",
              "            await google.colab.kernel.invokeFunction('convertToInteractive',\n",
              "                                                     [key], {});\n",
              "          if (!dataTable) return;\n",
              "\n",
              "          const docLinkHtml = 'Like what you see? Visit the ' +\n",
              "            '<a target=\"_blank\" href=https://colab.research.google.com/notebooks/data_table.ipynb>data table notebook</a>'\n",
              "            + ' to learn more about interactive tables.';\n",
              "          element.innerHTML = '';\n",
              "          dataTable['output_type'] = 'display_data';\n",
              "          await google.colab.output.renderOutput(dataTable, element);\n",
              "          const docLink = document.createElement('div');\n",
              "          docLink.innerHTML = docLinkHtml;\n",
              "          element.appendChild(docLink);\n",
              "        }\n",
              "      </script>\n",
              "    </div>\n",
              "  </div>\n",
              "  "
            ]
          },
          "metadata": {},
          "execution_count": 35
        }
      ]
    },
    {
      "cell_type": "markdown",
      "metadata": {
        "id": "zOOVEBpDtz4E"
      },
      "source": [
        "# Preparação dos Dados\n",
        "\n",
        "Use [statsmodels.formula.api](https://www.statsmodels.org/dev/generated/statsmodels.formula.api.ols.html)\n",
        "\n",
        "```\n",
        "from statsmodels.formula.api import ols   \n",
        "```\n",
        "\n",
        "Se você empregar esta forma do `statsmodels` ele fará de modo implítico o hot encode dos dados e não há necessidade de nenhuma transformação dos dados (não faremos a normalização aqui. Embora sempre recomendável na maior parte dos casos, aqui o resultado de predição será o mesmo com o sem a normalização).\n",
        "\n",
        "Atenção, se você empregar \n",
        "```\n",
        "from statsmodels.api import OLS \n",
        "```\n",
        "os resultados serão os mesmos, mas alguma preparação nos dados será necessária e a construção do modelo será um pouco diferente."
      ]
    },
    {
      "cell_type": "code",
      "metadata": {
        "id": "Sait1Ah_tgmQ"
      },
      "source": [
        "from statsmodels.formula.api import ols   \n",
        "\n",
        "# nada a fazer se estiver empregando a api acima"
      ],
      "execution_count": 36,
      "outputs": []
    },
    {
      "cell_type": "markdown",
      "metadata": {
        "id": "hEKtLebAmZrZ"
      },
      "source": [
        "# Estimando o modelo com o `statsmodels`\n",
        "\n",
        "Estime o modelo."
      ]
    },
    {
      "cell_type": "markdown",
      "metadata": {
        "id": "4KB5hJx6uCHS"
      },
      "source": [
        "(Moodle) **Q2**. Qual o coeficiente de determinação ajustado obtido?\n",
        "\n",
        "Dica: empregue `result.rsquared_adj` no lugar de `result.summary()` para obter resultados com maior precisão.\n",
        "\n",
        "(Moodle) **Q3**. Qual coeficiente estimado é menos significativo?"
      ]
    },
    {
      "cell_type": "code",
      "metadata": {
        "id": "AaDqRKl7vlVp",
        "colab": {
          "base_uri": "https://localhost:8080/"
        },
        "outputId": "0a2b4ed0-e7da-4c96-befb-706d29a74409"
      },
      "source": [
        "# seu código\n",
        "\n",
        "import statsmodels.formula.api as sm \n",
        "\n",
        "model_1 = sm.ols(formula= 'preco ~ bairro + areaM2 + suites + dormitorios + banheiros + vagas', data = df )\n",
        "\n",
        "result_1 = model_1.fit()\n",
        "\n",
        "print(result_1.rsquared_adj)\n",
        "print(result_1.summary())"
      ],
      "execution_count": 62,
      "outputs": [
        {
          "output_type": "stream",
          "name": "stdout",
          "text": [
            "0.7948154407290992\n",
            "                            OLS Regression Results                            \n",
            "==============================================================================\n",
            "Dep. Variable:                  preco   R-squared:                       0.795\n",
            "Model:                            OLS   Adj. R-squared:                  0.795\n",
            "Method:                 Least Squares   F-statistic:                     1611.\n",
            "Date:                Sun, 21 Aug 2022   Prob (F-statistic):               0.00\n",
            "Time:                        23:52:45   Log-Likelihood:                -54290.\n",
            "No. Observations:                3741   AIC:                         1.086e+05\n",
            "Df Residuals:                    3731   BIC:                         1.087e+05\n",
            "Df Model:                           9                                         \n",
            "Covariance Type:            nonrobust                                         \n",
            "=================================================================================================\n",
            "                                    coef    std err          t      P>|t|      [0.025      0.975]\n",
            "-------------------------------------------------------------------------------------------------\n",
            "Intercept                      -3.16e+05   5.35e+04     -5.911      0.000   -4.21e+05   -2.11e+05\n",
            "bairro[T.paraiso]              8.331e+04   4.68e+04      1.781      0.075   -8410.743    1.75e+05\n",
            "bairro[T.vila-mariana]         -1.18e+05   4.44e+04     -2.657      0.008   -2.05e+05   -3.09e+04\n",
            "bairro[T.vila-nova-conceicao]  7.698e+05   4.66e+04     16.502      0.000    6.78e+05    8.61e+05\n",
            "bairro[T.vila-sonia]          -5.245e+05   5.13e+04    -10.234      0.000   -6.25e+05   -4.24e+05\n",
            "areaM2                         7580.2937    241.143     31.435      0.000    7107.508    8053.079\n",
            "suites                         1.532e+05   1.33e+04     11.524      0.000    1.27e+05    1.79e+05\n",
            "dormitorios                   -9.971e+04    1.5e+04     -6.655      0.000   -1.29e+05   -7.03e+04\n",
            "banheiros                      4755.9925   8373.499      0.568      0.570   -1.17e+04    2.12e+04\n",
            "vagas                          3.331e+05   1.36e+04     24.503      0.000    3.06e+05     3.6e+05\n",
            "==============================================================================\n",
            "Omnibus:                     1315.549   Durbin-Watson:                   1.972\n",
            "Prob(Omnibus):                  0.000   Jarque-Bera (JB):            12370.154\n",
            "Skew:                           1.401   Prob(JB):                         0.00\n",
            "Kurtosis:                      11.457   Cond. No.                     1.89e+03\n",
            "==============================================================================\n",
            "\n",
            "Notes:\n",
            "[1] Standard Errors assume that the covariance matrix of the errors is correctly specified.\n",
            "[2] The condition number is large, 1.89e+03. This might indicate that there are\n",
            "strong multicollinearity or other numerical problems.\n"
          ]
        }
      ]
    },
    {
      "cell_type": "markdown",
      "metadata": {
        "id": "dgS10RfFwvwo"
      },
      "source": [
        "# Re-estimando o modelo com o `statsmodels`\n",
        "\n",
        "Estime novamente o modelo excluindo o atributo menos significativo (um único atributo). "
      ]
    },
    {
      "cell_type": "markdown",
      "metadata": {
        "id": "D-O_AgTfwvwo"
      },
      "source": [
        "(Moodle) **Q4**. Qual o novo coeficiente de determinação ajustado obtido?\n"
      ]
    },
    {
      "cell_type": "code",
      "metadata": {
        "id": "E_HLvYgGugge",
        "colab": {
          "base_uri": "https://localhost:8080/"
        },
        "outputId": "43a9b289-7ed6-4190-cff9-a89e6a5d0f4f"
      },
      "source": [
        "# seu código\n",
        "\n",
        "model_2 = sm.ols(formula= 'preco ~ bairro + areaM2 + suites + dormitorios + vagas', data = df )\n",
        "\n",
        "result_2 = model_2.fit()\n",
        "\n",
        "print(result_2.rsquared_adj)\n",
        "print(result_2.summary())"
      ],
      "execution_count": 42,
      "outputs": [
        {
          "output_type": "stream",
          "name": "stdout",
          "text": [
            "0.7948526838722687\n",
            "                            OLS Regression Results                            \n",
            "==============================================================================\n",
            "Dep. Variable:                  preco   R-squared:                       0.795\n",
            "Model:                            OLS   Adj. R-squared:                  0.795\n",
            "Method:                 Least Squares   F-statistic:                     1812.\n",
            "Date:                Sun, 21 Aug 2022   Prob (F-statistic):               0.00\n",
            "Time:                        21:44:14   Log-Likelihood:                -54290.\n",
            "No. Observations:                3741   AIC:                         1.086e+05\n",
            "Df Residuals:                    3732   BIC:                         1.087e+05\n",
            "Df Model:                           8                                         \n",
            "Covariance Type:            nonrobust                                         \n",
            "=================================================================================================\n",
            "                                    coef    std err          t      P>|t|      [0.025      0.975]\n",
            "-------------------------------------------------------------------------------------------------\n",
            "Intercept                      -3.14e+05   5.33e+04     -5.887      0.000   -4.19e+05   -2.09e+05\n",
            "bairro[T.paraiso]              8.287e+04   4.68e+04      1.772      0.076   -8824.930    1.75e+05\n",
            "bairro[T.vila-mariana]        -1.181e+05   4.44e+04     -2.659      0.008   -2.05e+05    -3.1e+04\n",
            "bairro[T.vila-nova-conceicao]  7.689e+05   4.66e+04     16.494      0.000    6.78e+05     8.6e+05\n",
            "bairro[T.vila-sonia]          -5.246e+05   5.12e+04    -10.237      0.000   -6.25e+05   -4.24e+05\n",
            "areaM2                         7591.9890    240.241     31.602      0.000    7120.973    8063.005\n",
            "suites                         1.561e+05   1.23e+04     12.700      0.000    1.32e+05     1.8e+05\n",
            "dormitorios                   -9.795e+04   1.47e+04     -6.683      0.000   -1.27e+05   -6.92e+04\n",
            "vagas                          3.337e+05   1.35e+04     24.631      0.000    3.07e+05     3.6e+05\n",
            "==============================================================================\n",
            "Omnibus:                     1314.663   Durbin-Watson:                   1.972\n",
            "Prob(Omnibus):                  0.000   Jarque-Bera (JB):            12354.953\n",
            "Skew:                           1.400   Prob(JB):                         0.00\n",
            "Kurtosis:                      11.451   Cond. No.                     1.89e+03\n",
            "==============================================================================\n",
            "\n",
            "Notes:\n",
            "[1] Standard Errors assume that the covariance matrix of the errors is correctly specified.\n",
            "[2] The condition number is large, 1.89e+03. This might indicate that there are\n",
            "strong multicollinearity or other numerical problems.\n"
          ]
        }
      ]
    },
    {
      "cell_type": "markdown",
      "metadata": {
        "id": "vR_Q4ifCttKD"
      },
      "source": [
        "# Predição\n",
        "\n",
        "Faça a predição do preço, com o melhor dos modelos obtidos acima, de um imóvel na Vila Mariana, com 134 m2, 1 suite, 4 dorm, 3 banheiros e 3 vagas.\n",
        "\n"
      ]
    },
    {
      "cell_type": "markdown",
      "metadata": {
        "id": "tMjCg31VzFWX"
      },
      "source": [
        "(Moodle) **Q5**. Qual o preço estimado, para o melhor dos modelos obtidos, de um imóvel na Vila Mariana, com 134 m2, 1 suite, 4 dorm, 3 banheiros e 3 vagas?\n",
        "\n"
      ]
    },
    {
      "cell_type": "code",
      "metadata": {
        "id": "4GZZsfngq007",
        "colab": {
          "base_uri": "https://localhost:8080/"
        },
        "outputId": "8699bff5-fb06-40bd-a9c1-494eb73653d6"
      },
      "source": [
        "# seu código\n",
        "model_3 = sm.ols(formula= 'preco ~ suites', data = df )#bairro + areaM2 + suites + dormitorios + banheiros + vagas\n",
        "\n",
        "result_3 = model_3.fit()\n",
        "#print(result_3.summary())\n",
        "casa = pd.DataFrame({'suites':[1]})#,\t'areaM2':[134], 'suites':1, 'dormitorios':[4], 'banheiros':[3], 'vagas':[3]})\n",
        "#casa2 = pd.DataFrame({'bairro':['vila-nova-conceicao'],\t'areaM2':[32], 'suites':[1], 'dormitorios':[1], 'banheiros':[1], 'vagas':[1]})\n",
        "#vila-nova-conceicao\t32\t1\t1\t1\t1\t490000\n",
        "result_3.predict(casa)\n",
        "#result_3.summary()"
      ],
      "execution_count": 86,
      "outputs": [
        {
          "output_type": "execute_result",
          "data": {
            "text/plain": [
              "0    1.048993e+06\n",
              "dtype: float64"
            ]
          },
          "metadata": {},
          "execution_count": 86
        }
      ]
    },
    {
      "cell_type": "code",
      "source": [
        "df1 = pd.read_csv(\"https://vincentarelbundock.github.io/Rdatasets/csv/MASS/Cars93.csv\", index_col=0)\n",
        "df1.head()"
      ],
      "metadata": {
        "id": "L_p1PaQA2uev",
        "outputId": "b84cbc8a-17ce-4912-d03c-0250fa5b0911",
        "colab": {
          "base_uri": "https://localhost:8080/",
          "height": 386
        }
      },
      "execution_count": 82,
      "outputs": [
        {
          "output_type": "execute_result",
          "data": {
            "text/plain": [
              "  Manufacturer    Model     Type  Min.Price  Price  Max.Price  MPG.city  \\\n",
              "1        Acura  Integra    Small       12.9   15.9       18.8        25   \n",
              "2        Acura   Legend  Midsize       29.2   33.9       38.7        18   \n",
              "3         Audi       90  Compact       25.9   29.1       32.3        20   \n",
              "4         Audi      100  Midsize       30.8   37.7       44.6        19   \n",
              "5          BMW     535i  Midsize       23.7   30.0       36.2        22   \n",
              "\n",
              "   MPG.highway             AirBags DriveTrain  ... Passengers  Length  \\\n",
              "1           31                None      Front  ...          5     177   \n",
              "2           25  Driver & Passenger      Front  ...          5     195   \n",
              "3           26         Driver only      Front  ...          5     180   \n",
              "4           26  Driver & Passenger      Front  ...          6     193   \n",
              "5           30         Driver only       Rear  ...          4     186   \n",
              "\n",
              "   Wheelbase  Width  Turn.circle Rear.seat.room  Luggage.room  Weight  \\\n",
              "1        102     68           37           26.5          11.0    2705   \n",
              "2        115     71           38           30.0          15.0    3560   \n",
              "3        102     67           37           28.0          14.0    3375   \n",
              "4        106     70           37           31.0          17.0    3405   \n",
              "5        109     69           39           27.0          13.0    3640   \n",
              "\n",
              "    Origin           Make  \n",
              "1  non-USA  Acura Integra  \n",
              "2  non-USA   Acura Legend  \n",
              "3  non-USA        Audi 90  \n",
              "4  non-USA       Audi 100  \n",
              "5  non-USA       BMW 535i  \n",
              "\n",
              "[5 rows x 27 columns]"
            ],
            "text/html": [
              "\n",
              "  <div id=\"df-1fc4349f-22f9-419f-a4e7-6d408ccf64bb\">\n",
              "    <div class=\"colab-df-container\">\n",
              "      <div>\n",
              "<style scoped>\n",
              "    .dataframe tbody tr th:only-of-type {\n",
              "        vertical-align: middle;\n",
              "    }\n",
              "\n",
              "    .dataframe tbody tr th {\n",
              "        vertical-align: top;\n",
              "    }\n",
              "\n",
              "    .dataframe thead th {\n",
              "        text-align: right;\n",
              "    }\n",
              "</style>\n",
              "<table border=\"1\" class=\"dataframe\">\n",
              "  <thead>\n",
              "    <tr style=\"text-align: right;\">\n",
              "      <th></th>\n",
              "      <th>Manufacturer</th>\n",
              "      <th>Model</th>\n",
              "      <th>Type</th>\n",
              "      <th>Min.Price</th>\n",
              "      <th>Price</th>\n",
              "      <th>Max.Price</th>\n",
              "      <th>MPG.city</th>\n",
              "      <th>MPG.highway</th>\n",
              "      <th>AirBags</th>\n",
              "      <th>DriveTrain</th>\n",
              "      <th>...</th>\n",
              "      <th>Passengers</th>\n",
              "      <th>Length</th>\n",
              "      <th>Wheelbase</th>\n",
              "      <th>Width</th>\n",
              "      <th>Turn.circle</th>\n",
              "      <th>Rear.seat.room</th>\n",
              "      <th>Luggage.room</th>\n",
              "      <th>Weight</th>\n",
              "      <th>Origin</th>\n",
              "      <th>Make</th>\n",
              "    </tr>\n",
              "  </thead>\n",
              "  <tbody>\n",
              "    <tr>\n",
              "      <th>1</th>\n",
              "      <td>Acura</td>\n",
              "      <td>Integra</td>\n",
              "      <td>Small</td>\n",
              "      <td>12.9</td>\n",
              "      <td>15.9</td>\n",
              "      <td>18.8</td>\n",
              "      <td>25</td>\n",
              "      <td>31</td>\n",
              "      <td>None</td>\n",
              "      <td>Front</td>\n",
              "      <td>...</td>\n",
              "      <td>5</td>\n",
              "      <td>177</td>\n",
              "      <td>102</td>\n",
              "      <td>68</td>\n",
              "      <td>37</td>\n",
              "      <td>26.5</td>\n",
              "      <td>11.0</td>\n",
              "      <td>2705</td>\n",
              "      <td>non-USA</td>\n",
              "      <td>Acura Integra</td>\n",
              "    </tr>\n",
              "    <tr>\n",
              "      <th>2</th>\n",
              "      <td>Acura</td>\n",
              "      <td>Legend</td>\n",
              "      <td>Midsize</td>\n",
              "      <td>29.2</td>\n",
              "      <td>33.9</td>\n",
              "      <td>38.7</td>\n",
              "      <td>18</td>\n",
              "      <td>25</td>\n",
              "      <td>Driver &amp; Passenger</td>\n",
              "      <td>Front</td>\n",
              "      <td>...</td>\n",
              "      <td>5</td>\n",
              "      <td>195</td>\n",
              "      <td>115</td>\n",
              "      <td>71</td>\n",
              "      <td>38</td>\n",
              "      <td>30.0</td>\n",
              "      <td>15.0</td>\n",
              "      <td>3560</td>\n",
              "      <td>non-USA</td>\n",
              "      <td>Acura Legend</td>\n",
              "    </tr>\n",
              "    <tr>\n",
              "      <th>3</th>\n",
              "      <td>Audi</td>\n",
              "      <td>90</td>\n",
              "      <td>Compact</td>\n",
              "      <td>25.9</td>\n",
              "      <td>29.1</td>\n",
              "      <td>32.3</td>\n",
              "      <td>20</td>\n",
              "      <td>26</td>\n",
              "      <td>Driver only</td>\n",
              "      <td>Front</td>\n",
              "      <td>...</td>\n",
              "      <td>5</td>\n",
              "      <td>180</td>\n",
              "      <td>102</td>\n",
              "      <td>67</td>\n",
              "      <td>37</td>\n",
              "      <td>28.0</td>\n",
              "      <td>14.0</td>\n",
              "      <td>3375</td>\n",
              "      <td>non-USA</td>\n",
              "      <td>Audi 90</td>\n",
              "    </tr>\n",
              "    <tr>\n",
              "      <th>4</th>\n",
              "      <td>Audi</td>\n",
              "      <td>100</td>\n",
              "      <td>Midsize</td>\n",
              "      <td>30.8</td>\n",
              "      <td>37.7</td>\n",
              "      <td>44.6</td>\n",
              "      <td>19</td>\n",
              "      <td>26</td>\n",
              "      <td>Driver &amp; Passenger</td>\n",
              "      <td>Front</td>\n",
              "      <td>...</td>\n",
              "      <td>6</td>\n",
              "      <td>193</td>\n",
              "      <td>106</td>\n",
              "      <td>70</td>\n",
              "      <td>37</td>\n",
              "      <td>31.0</td>\n",
              "      <td>17.0</td>\n",
              "      <td>3405</td>\n",
              "      <td>non-USA</td>\n",
              "      <td>Audi 100</td>\n",
              "    </tr>\n",
              "    <tr>\n",
              "      <th>5</th>\n",
              "      <td>BMW</td>\n",
              "      <td>535i</td>\n",
              "      <td>Midsize</td>\n",
              "      <td>23.7</td>\n",
              "      <td>30.0</td>\n",
              "      <td>36.2</td>\n",
              "      <td>22</td>\n",
              "      <td>30</td>\n",
              "      <td>Driver only</td>\n",
              "      <td>Rear</td>\n",
              "      <td>...</td>\n",
              "      <td>4</td>\n",
              "      <td>186</td>\n",
              "      <td>109</td>\n",
              "      <td>69</td>\n",
              "      <td>39</td>\n",
              "      <td>27.0</td>\n",
              "      <td>13.0</td>\n",
              "      <td>3640</td>\n",
              "      <td>non-USA</td>\n",
              "      <td>BMW 535i</td>\n",
              "    </tr>\n",
              "  </tbody>\n",
              "</table>\n",
              "<p>5 rows × 27 columns</p>\n",
              "</div>\n",
              "      <button class=\"colab-df-convert\" onclick=\"convertToInteractive('df-1fc4349f-22f9-419f-a4e7-6d408ccf64bb')\"\n",
              "              title=\"Convert this dataframe to an interactive table.\"\n",
              "              style=\"display:none;\">\n",
              "        \n",
              "  <svg xmlns=\"http://www.w3.org/2000/svg\" height=\"24px\"viewBox=\"0 0 24 24\"\n",
              "       width=\"24px\">\n",
              "    <path d=\"M0 0h24v24H0V0z\" fill=\"none\"/>\n",
              "    <path d=\"M18.56 5.44l.94 2.06.94-2.06 2.06-.94-2.06-.94-.94-2.06-.94 2.06-2.06.94zm-11 1L8.5 8.5l.94-2.06 2.06-.94-2.06-.94L8.5 2.5l-.94 2.06-2.06.94zm10 10l.94 2.06.94-2.06 2.06-.94-2.06-.94-.94-2.06-.94 2.06-2.06.94z\"/><path d=\"M17.41 7.96l-1.37-1.37c-.4-.4-.92-.59-1.43-.59-.52 0-1.04.2-1.43.59L10.3 9.45l-7.72 7.72c-.78.78-.78 2.05 0 2.83L4 21.41c.39.39.9.59 1.41.59.51 0 1.02-.2 1.41-.59l7.78-7.78 2.81-2.81c.8-.78.8-2.07 0-2.86zM5.41 20L4 18.59l7.72-7.72 1.47 1.35L5.41 20z\"/>\n",
              "  </svg>\n",
              "      </button>\n",
              "      \n",
              "  <style>\n",
              "    .colab-df-container {\n",
              "      display:flex;\n",
              "      flex-wrap:wrap;\n",
              "      gap: 12px;\n",
              "    }\n",
              "\n",
              "    .colab-df-convert {\n",
              "      background-color: #E8F0FE;\n",
              "      border: none;\n",
              "      border-radius: 50%;\n",
              "      cursor: pointer;\n",
              "      display: none;\n",
              "      fill: #1967D2;\n",
              "      height: 32px;\n",
              "      padding: 0 0 0 0;\n",
              "      width: 32px;\n",
              "    }\n",
              "\n",
              "    .colab-df-convert:hover {\n",
              "      background-color: #E2EBFA;\n",
              "      box-shadow: 0px 1px 2px rgba(60, 64, 67, 0.3), 0px 1px 3px 1px rgba(60, 64, 67, 0.15);\n",
              "      fill: #174EA6;\n",
              "    }\n",
              "\n",
              "    [theme=dark] .colab-df-convert {\n",
              "      background-color: #3B4455;\n",
              "      fill: #D2E3FC;\n",
              "    }\n",
              "\n",
              "    [theme=dark] .colab-df-convert:hover {\n",
              "      background-color: #434B5C;\n",
              "      box-shadow: 0px 1px 3px 1px rgba(0, 0, 0, 0.15);\n",
              "      filter: drop-shadow(0px 1px 2px rgba(0, 0, 0, 0.3));\n",
              "      fill: #FFFFFF;\n",
              "    }\n",
              "  </style>\n",
              "\n",
              "      <script>\n",
              "        const buttonEl =\n",
              "          document.querySelector('#df-1fc4349f-22f9-419f-a4e7-6d408ccf64bb button.colab-df-convert');\n",
              "        buttonEl.style.display =\n",
              "          google.colab.kernel.accessAllowed ? 'block' : 'none';\n",
              "\n",
              "        async function convertToInteractive(key) {\n",
              "          const element = document.querySelector('#df-1fc4349f-22f9-419f-a4e7-6d408ccf64bb');\n",
              "          const dataTable =\n",
              "            await google.colab.kernel.invokeFunction('convertToInteractive',\n",
              "                                                     [key], {});\n",
              "          if (!dataTable) return;\n",
              "\n",
              "          const docLinkHtml = 'Like what you see? Visit the ' +\n",
              "            '<a target=\"_blank\" href=https://colab.research.google.com/notebooks/data_table.ipynb>data table notebook</a>'\n",
              "            + ' to learn more about interactive tables.';\n",
              "          element.innerHTML = '';\n",
              "          dataTable['output_type'] = 'display_data';\n",
              "          await google.colab.output.renderOutput(dataTable, element);\n",
              "          const docLink = document.createElement('div');\n",
              "          docLink.innerHTML = docLinkHtml;\n",
              "          element.appendChild(docLink);\n",
              "        }\n",
              "      </script>\n",
              "    </div>\n",
              "  </div>\n",
              "  "
            ]
          },
          "metadata": {},
          "execution_count": 82
        }
      ]
    },
    {
      "cell_type": "code",
      "source": [
        "df1.columns = [x.replace('.','') for x in df1.columns]\n"
      ],
      "metadata": {
        "id": "v_JXY7I-6w2A"
      },
      "execution_count": 87,
      "outputs": []
    },
    {
      "cell_type": "code",
      "source": [
        "model = sm.ols(formula='Price ~Horsepower', data = df1)\n",
        "result = model.fit()\n",
        "print(result.summary())"
      ],
      "metadata": {
        "id": "cW1bjzoO7ESZ",
        "outputId": "36ab523c-8c6f-4254-e0e9-e8e0ba7ed599",
        "colab": {
          "base_uri": "https://localhost:8080/"
        }
      },
      "execution_count": 88,
      "outputs": [
        {
          "output_type": "stream",
          "name": "stdout",
          "text": [
            "                            OLS Regression Results                            \n",
            "==============================================================================\n",
            "Dep. Variable:                  Price   R-squared:                       0.621\n",
            "Model:                            OLS   Adj. R-squared:                  0.617\n",
            "Method:                 Least Squares   F-statistic:                     149.3\n",
            "Date:                Mon, 22 Aug 2022   Prob (F-statistic):           6.84e-21\n",
            "Time:                        00:25:36   Log-Likelihood:                -297.23\n",
            "No. Observations:                  93   AIC:                             598.5\n",
            "Df Residuals:                      91   BIC:                             603.5\n",
            "Df Model:                           1                                         \n",
            "Covariance Type:            nonrobust                                         \n",
            "==============================================================================\n",
            "                 coef    std err          t      P>|t|      [0.025      0.975]\n",
            "------------------------------------------------------------------------------\n",
            "Intercept     -1.3988      1.820     -0.769      0.444      -5.014       2.216\n",
            "Horsepower     0.1454      0.012     12.218      0.000       0.122       0.169\n",
            "==============================================================================\n",
            "Omnibus:                       55.766   Durbin-Watson:                   1.466\n",
            "Prob(Omnibus):                  0.000   Jarque-Bera (JB):              308.782\n",
            "Skew:                           1.805   Prob(JB):                     8.89e-68\n",
            "Kurtosis:                      11.164   Cond. No.                         449.\n",
            "==============================================================================\n",
            "\n",
            "Notes:\n",
            "[1] Standard Errors assume that the covariance matrix of the errors is correctly specified.\n"
          ]
        }
      ]
    },
    {
      "cell_type": "code",
      "source": [
        "x = pd.DataFrame({'Horsepower':[150]})\n",
        "result.predict(x)"
      ],
      "metadata": {
        "id": "5LeCJzKp7eyo",
        "outputId": "029e50ff-184a-4bce-90dd-95cf46738de1",
        "colab": {
          "base_uri": "https://localhost:8080/"
        }
      },
      "execution_count": 89,
      "outputs": [
        {
          "output_type": "execute_result",
          "data": {
            "text/plain": [
              "0    20.406915\n",
              "dtype: float64"
            ]
          },
          "metadata": {},
          "execution_count": 89
        }
      ]
    }
  ]
}